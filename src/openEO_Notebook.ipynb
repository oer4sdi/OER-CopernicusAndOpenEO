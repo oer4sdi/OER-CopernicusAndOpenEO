{
 "cells": [
  {
   "cell_type": "markdown",
   "metadata": {},
   "source": [
    "# 3.3 Exercise: Working with OpenEO on Copernicus Data\n",
    "\n",
    "Now that we have familiarized ourselves with the concepts of the Copernicus Data Space ecosystem and openEO, it is time to get our hands dirty. In this exercise, we will use Sentinel-2 satellite data to get a first impression of the impact of the flood disaster in Ahrweiler, Germany, which occurred on July 14-15, 2021.\n",
    "\n",
    "In the first part of this exercise, we will focus on creating the pre-flood NDVI image using Sentinel-2 data. In a later section, you'll have the opportunity to create the post-flood NDVI image yourself and observe the changes in vegetation."
   ]
  },
  {
   "cell_type": "markdown",
   "metadata": {},
   "source": [
    "## 3.3.1 Installing the needed software\n",
    "To configure our software environment, we need to install several Python libraries which enable us to use openEO and some functions for analyzing and visualizing the satellite data:\n",
    "- `openeo`: To access Earth Observation data via the Copernicus Data Space Ecosystem.\n",
    "- `numpy`: For numerical data processing.\n",
    "- `matplotlib`: For visualization.\n",
    "- `rasterio`: To read and process geospatial TIFF files.\n",
    "- `os`: For interacting with the file system.\n",
    "\n",
    "If you're interested to learn more about the openeo python library, you can find the detailed documentation here: https://openeo.org/documentation/1.0/python/.\n",
    "\n",
    "You can install these libraries using the following command if any of imports should fail:\n",
    "```bash\n",
    "!pip install openeo numpy matplotlib rasterio"
   ]
  },
  {
   "cell_type": "code",
   "execution_count": null,
   "metadata": {},
   "outputs": [],
   "source": [
    "import openeo\n",
    "import numpy as np\n",
    "import matplotlib.pyplot as plt\n",
    "import rasterio\n",
    "from skimage import exposure\n",
    "import os"
   ]
  },
  {
   "cell_type": "markdown",
   "metadata": {},
   "source": [
    "## 3.3.2 Sign in with your Account\n",
    "\n",
    "To begin with, we need to connect to the Copernicus Data Space Ecosystem and authenticate ourselfes as a registered user. This enables us to get access to the data and services of the CDSE platform’s data and services. \n",
    "\n",
    "**Before you continue with the notebook, make sure that you have successfully registered as a user of the Copernicus Data Space Ecosystem at https://dataspace.copernicus.eu/**\n"
   ]
  },
  {
   "cell_type": "code",
   "execution_count": null,
   "metadata": {},
   "outputs": [],
   "source": [
    "# to authenticate, we use the following function provided by the openeo library:\n",
    "\n",
    "connection = openeo.connect(url=\"openeo.dataspace.copernicus.eu\")\n",
    "connection.authenticate_oidc()\n",
    "\n",
    "# after activating this cell, a link to CDSE's authentication widget will be displayed\n",
    "# follow the link and confirm that this notebook can access the CDSE with your credentials\n",
    "# after successfully completing this step a green checkmark followed by \"Authorized successfully\" shoukd appear"
   ]
  },
  {
   "cell_type": "markdown",
   "metadata": {},
   "source": [
    "## 3.3.3 Creating filters for retrieving the Sentinel 2 data\n",
    "\n",
    "Next, we want to retrieve usable Sentinel-2 data for the area around Ahrweiler in Germany, where the heavy rainfall event occurred on July 14 and 15, 2021.\n",
    "\n",
    "To focus our search on the region of Ahrweiler, we use a bounding box as a **spatial filter**. We define the coordinates of the bounding box of our area of interest in such a way that the region around Ahrweiler is enclosed.  \n"
   ]
  },
  {
   "cell_type": "code",
   "execution_count": null,
   "metadata": {},
   "outputs": [],
   "source": [
    "# area of interest covers the region around Ahrweiler in Germany\n",
    "\n",
    "areaOfInterest_bbox = {\n",
    "    \"west\": 7.055496548917159,\n",
    "    \"south\": 50.52018836230043,\n",
    "    \"east\": 7.117575039388905,\n",
    "    \"north\": 50.546364682516895\n",
    "} \n"
   ]
  },
  {
   "cell_type": "markdown",
   "metadata": {},
   "source": [
    "As for the **temporal filter** we will focus on the period shortly before the flood, i.e. up to July 13, 2021. \n",
    "Since we do not know exactly when a usable image was taken for our target area at that time, we specify a time period that includes the last few days before the weather event.\n"
   ]
  },
  {
   "cell_type": "code",
   "execution_count": null,
   "metadata": {},
   "outputs": [],
   "source": [
    "# time period before the rainfall event, where we hope that some usable Sentinel-2 images have been captured\n",
    "\n",
    "period_before = [\"2021-06-12\", \"2021-06-14\"] \n"
   ]
  },
  {
   "cell_type": "markdown",
   "metadata": {},
   "source": [
    "## 3.3.4 Loading Sentinel 2 data with a Datacube\n",
    "\n",
    "To calculate the NDVI (Normalized Difference Vegetation Index), we load the bands B08 (NIR) and B04 (Red) of the Sentinel-2 data as a datacube. Datacubes are a key concept in OpenEO. If you want to learn more about datacubes, follow this link: https://openeo.org/documentation/1.0/datacubes.html. \n"
   ]
  },
  {
   "cell_type": "code",
   "execution_count": null,
   "metadata": {},
   "outputs": [],
   "source": [
    "s2_data_before = connection.load_collection(\n",
    "    \"SENTINEL2_L2A\",\n",
    "    spatial_extent=areaOfInterest_bbox,\n",
    "    temporal_extent=period_before,\n",
    "    bands=[\"B04\", \"B08\"]\n",
    ")"
   ]
  },
  {
   "cell_type": "markdown",
   "metadata": {},
   "source": [
    "## 3.3.5 Calculating the NDVI\n",
    "For this analysis, we will use the B04 (red) and B08 (near-infrared) bands of Sentinel-2, which are essential for NDVI calculations. This is a common index used to measure vegetation health. \n",
    "Luckily for us there already exists a function for that from the OpenEO API. OpenEO has many predefined functions like this, called processes, to perform calculations or mainpulate your data. These processes are also documented and can be found here: https://openeo.org/documentation/1.0/processes.html.\n",
    "\n",
    "The NDVI formula is: NDVI = (NIR - Red) / (NIR + Red)\n",
    "\n",
    "This index helps us to get a first impression of the impact of the flood on the vegetation. We will first create the NDVI image for the time before the flood and then compare it with the situation after the flood."
   ]
  },
  {
   "cell_type": "code",
   "execution_count": null,
   "metadata": {},
   "outputs": [],
   "source": [
    "ndvi_before = s2_data_before.ndvi(nir=\"B08\", red=\"B04\")"
   ]
  },
  {
   "cell_type": "markdown",
   "metadata": {},
   "source": [
    "## 3.3.6 Saving the NDVI Result as a GeoTIFF\n",
    "In this step, we calculate the mean NDVI over time for the pre-flood data. This reduces the temporal dimension and allows us to generate a single NDVI image representing the average vegetation health before the flood.\n",
    "\n",
    "We save the resulting NDVI image in GeoTIFF format. The GeoTIFF format allows us to store geospatial raster data with the correct geographic coordinates, ensuring that it can be easily loaded into GIS software for further analysis."
   ]
  },
  {
   "cell_type": "code",
   "execution_count": null,
   "metadata": {},
   "outputs": [],
   "source": [
    "ndvi_mean_before = ndvi_before.reduce_dimension(dimension=\"t\", reducer=\"mean\")\n",
    "\n",
    "result_before = ndvi_mean_before.save_result(format=\"GTiff\")"
   ]
  },
  {
   "cell_type": "markdown",
   "metadata": {},
   "source": [
    "## 3.3.7 Creating and Starting a Batch Job\n",
    "Since the processing of satellite data can take some time, we use OpenEO's batch job feature. A batch job processes the data asynchronously on the OpenEO backend, and once completed, we can download the results.\n",
    "\n",
    "Here, we create and start a batch job to process the pre-flood NDVI data. Once the job is finished, the resulting NDVI image is downloaded and saved as a GeoTIFF file.\n",
    "\n",
    "As the batch job processes, it’s important to monitor the job’s progress. This ensures that we know when the processing is complete and can download the results.\n",
    "\n",
    "Once the job is finished (status = \"finished\"), the results can be downloaded directly, as shown in the previous step. If the job is still running or encounters an error, appropriate action can be taken."
   ]
  },
  {
   "cell_type": "code",
   "execution_count": null,
   "metadata": {},
   "outputs": [],
   "source": [
    "output_dir = \"results\" \n",
    "sampleOutput_dir = \"sampleOutput\""
   ]
  },
  {
   "cell_type": "code",
   "execution_count": null,
   "metadata": {},
   "outputs": [],
   "source": [
    "job_before = result_before.create_job()\n",
    "job_before.start_and_wait()\n",
    "if job_before.status() == \"finished\":\n",
    "    job_before.get_results().download_files(output_dir)\n",
    "    print(\"NDVI before flood downloaded successfully.\")\n",
    "else:\n",
    "    print(\"Error in downloading NDVI before flood!\")\n",
    "\n",
    "downloaded_files = os.listdir(output_dir)\n",
    "for filename in downloaded_files:\n",
    "    if filename == \"openEO.tif\":\n",
    "        file_path = os.path.join(output_dir, filename)\n",
    "        print(f\"Renaming {filename} to NDVI_Before_Flood.tif\")\n",
    "        os.rename(file_path, os.path.join(output_dir, \"NDVI_Before_Flood.tif\"))"
   ]
  },
  {
   "cell_type": "markdown",
   "metadata": {},
   "source": [
    "## 3.3.8 Show resulting .tif file\n",
    "After downloading and renaming the GeoTIFF file, we can visualize the pre-flood NDVI image. By using rasterio and matplotlib, we can load and display the NDVI data with a suitable color map to interpret vegetation health. \n",
    "This visualization helps us to understand the state of the vegetation before the flood and serves as a baseline for later comparison with post-flood data."
   ]
  },
  {
   "cell_type": "code",
   "execution_count": null,
   "metadata": {},
   "outputs": [],
   "source": [
    "def plot_ndvi(filename, output_dir):\n",
    "    file_path = os.path.join(output_dir, filename)\n",
    "    \n",
    "    if os.path.exists(file_path):\n",
    "        with rasterio.open(file_path) as src:\n",
    "            ndvi_data = src.read(1)\n",
    "            ndvi_data = np.clip(ndvi_data, -1, 1)\n",
    "            \n",
    "            plt.figure(figsize=(10, 10))\n",
    "            plt.title(f'NDVI Image - {filename}')\n",
    "            plt.imshow(ndvi_data, cmap='RdYlGn', vmin=-1, vmax=1)\n",
    "            plt.colorbar()\n",
    "            plt.show()\n",
    "    else:\n",
    "        print(f\"File {filename} not found!\")\n",
    "\n",
    "plot_ndvi(\"NDVI_Before_Flood.tif\", output_dir)"
   ]
  },
  {
   "cell_type": "markdown",
   "metadata": {},
   "source": [
    "## 3.3.9 Your Turn\n",
    "Now that you have seen the workflow try recreating it. Therefor fill the gaps in the following code snippet and run them after that. \n",
    "\n",
    "We want to get a second .tif file for our area of interest that shows the situation after the flood. Therefor we want to look for Sentinel-2 data within a time period after the flood, i.e. for example between the 2021.07.20 and 2021.07.22. \n",
    "\n",
    "Compare the results with the pre-flood NDVI to observe the impact of the flood on the vegetation. \n",
    "\n",
    "Once you've generated the post-flood NDVI image, we compute the NDVI difference to assess the changes in vegetation and identify areas that were most affected by the flood."
   ]
  },
  {
   "cell_type": "code",
   "execution_count": null,
   "metadata": {},
   "outputs": [],
   "source": [
    "# creating the time filter for the period shortly after the rainfall event \n",
    "period_after =                  # Please insert a time period here.\n",
    "\n",
    "# load Sentienl 2 data with datacube\n",
    "s2_data_after = connection.load_collection(\n",
    "    \"SENTINEL2_L2A\",\n",
    "    spatial_extent=areaOfInterest_bbox,\n",
    "    temporal_extent=period_after,\n",
    "    bands=                      # Please insert the needed bands.\n",
    ")\n",
    "\n",
    "# calculation of NDVI\n",
    "ndvi_after = s2_data_after.ndvi(nir=\"B08\", red=\"B04\")\n",
    "\n",
    "# use a reducer if necessary\n",
    "ndvi_mean_after = ndvi_after.reduce_dimension(dimension=\"t\", reducer=\"mean\")\n",
    "\n",
    "# Saving the NDVI result as a .tif file\n",
    "result_after = ndvi_mean_after.save_result(format=\"GTiff\")\n",
    "\n",
    "# creating and starting the job\n",
    "job_after = result_after.create_job()\n",
    "job_after.start_and_wait()\n",
    "if job_after.status() == \"finished\":\n",
    "    job_after.get_results().download_files(output_dir)\n",
    "    print(\"NDVI after flood downloaded successfully.\")\n",
    "else:\n",
    "    print(\"Error in downloading NDVI after flood!\")\n",
    "\n",
    "# Renaming file\n",
    "downloaded_files = os.listdir(output_dir)\n",
    "for filename in downloaded_files:\n",
    "    if filename == \"openEO.tif\":\n",
    "        file_path = os.path.join(output_dir, filename)\n",
    "        print(f\"Renaming {filename} to NDVI_After_Flood.tif\")\n",
    "        os.rename(file_path, os.path.join(output_dir, \"NDVI_After_Flood.tif\"))"
   ]
  },
  {
   "cell_type": "markdown",
   "metadata": {},
   "source": [
    "## 3.3.10 Comparing pre- and post-flood situation\n",
    "Now you can display both NDVI images side by side and compare the situation in Ahrweiler before and after the heavy rainfall event. \n",
    "\n",
    "If something goes wrong with the image you creates for the time after the rainfall event (step 3.3.9), you can also use our example solution (AfterFlood_NDVI)."
   ]
  },
  {
   "cell_type": "code",
   "execution_count": null,
   "metadata": {},
   "outputs": [],
   "source": [
    "# definition of the NDVI-files that shall be plotted\n",
    "files = [\n",
    "    (\"NDVI_Before_Flood.tif\", output_dir, \"Before Flood\"),\n",
    "    (\"NDVI_After_Flood.tif\", output_dir, \"After Flood (your result)\")]\n",
    "\n",
    "# if something went wrong with computing \"NDVI_After_Flood.tif\" you can use our sample solution \"sampleOutput\\NDVI_After_Flood_Control.tif\" \n",
    "# just by decommenting the following lines\n",
    "\n",
    "#files = [\n",
    "#    (\"NDVI_Before_Flood.tif\", output_dir, \"Before Flood\"),\n",
    "#    (\"NDVI_After_Flood_Control.tif\", sampleOutput_dir, \"After Flood (sample solution)\")]\n",
    "\n",
    "\n"
   ]
  },
  {
   "cell_type": "code",
   "execution_count": null,
   "metadata": {},
   "outputs": [],
   "source": [
    "\n",
    "def plot_ndvi_images(files_and_dirs):\n",
    "    fig, axes = plt.subplots(1, 2, figsize=(20, 10))\n",
    "\n",
    "    for ax, (filename, directory, title) in zip(axes, files_and_dirs):\n",
    "        file_path = os.path.join(directory, filename)\n",
    "        \n",
    "        if os.path.exists(file_path):\n",
    "            with rasterio.open(file_path) as src:\n",
    "                data = src.read(1)\n",
    "                data = np.clip(data, -1, 1)\n",
    "\n",
    "            ax.imshow(data, cmap='RdYlGn', vmin=-1, vmax=1)\n",
    "            ax.set_title(f'NDVI {title}')\n",
    "            ax.axis('off')\n",
    "        else:\n",
    "            print(f\"File {filename} not found in directory {directory}.\")\n",
    "\n",
    "    cbar = fig.colorbar(plt.cm.ScalarMappable(cmap='RdYlGn'), ax=axes, orientation='vertical', fraction=0.02, pad=0.04)\n",
    "    cbar.set_label('NDVI Value')\n",
    "\n",
    "    plt.show()\n",
    "\n",
    "plot_ndvi_images(files)"
   ]
  },
  {
   "cell_type": "markdown",
   "metadata": {},
   "source": [
    "## 3.3.11 Comparing pre- and post-flood situation using the NDVI difference\n",
    "\n",
    "After calculating the NDVI values for both pre-flood and post-flood data, we will visualize the NDVI difference to understand how the flood impacted vegetation in the Ahrweiler region.\n",
    "\n",
    "The color scale:\n",
    "- **Green**: Indicates areas where vegetation has even improved.\n",
    "- **Red**: Indicates areas where vegetation health has decreased, possibly due to flooding.\n",
    "\n",
    "Below is an example plot showing the NDVI difference:\n",
    "```python\n",
    "plt.imshow(ndvi_difference, cmap=\"RdYlGn\")\n",
    "plt.colorbar(label=\"NDVI Difference\")\n",
    "plt.title(\"NDVI Difference (After - Before)\")\n",
    "plt.show()"
   ]
  },
  {
   "cell_type": "code",
   "execution_count": null,
   "metadata": {},
   "outputs": [],
   "source": [
    "def calculate_ndvi_difference(before_path, after_path):\n",
    "    with rasterio.open(before_path) as before_src:\n",
    "        ndvi_before = before_src.read(1)\n",
    "    \n",
    "    with rasterio.open(after_path) as after_src:\n",
    "        ndvi_after = after_src.read(1)\n",
    "\n",
    "    ndvi_before = np.clip(ndvi_before, -1, 1)\n",
    "    ndvi_after = np.clip(ndvi_after, -1, 1)\n",
    "    \n",
    "    ndvi_diff = ndvi_after - ndvi_before\n",
    "    \n",
    "    plot_ndvi_difference(ndvi_diff)\n",
    "\n",
    "def plot_ndvi_difference(ndvi_diff):\n",
    "    plt.figure(figsize=(10, 10))\n",
    "    plt.title('NDVI Difference (After - Before)')\n",
    "    plt.imshow(ndvi_diff, cmap='RdYlGn', vmin=-1, vmax=1)\n",
    "    plt.colorbar(label='NDVI Difference')\n",
    "    plt.show()\n",
    "\n",
    "before_path = os.path.join(files[0][1], files[0][0])\n",
    "after_path = os.path.join(files[1][1], files[1][0])\n",
    "\n",
    "calculate_ndvi_difference(before_path, after_path)\n"
   ]
  },
  {
   "cell_type": "markdown",
   "metadata": {},
   "source": [
    "## Congratulations!!!\n",
    "\n",
    "You have mastered this exercise. You have seen how easily you can get to EO data and process it through the openEO API and Copernicus Data Space Ecosystem.\n",
    "\n",
    "In this module, you learned how to retrieve and analyze Sentinel-2 data using NDVI to assess the impact of the Ahrweiler flood. By comparing the pre- and post-flood vegetation health, you can now identify areas most affected by the disaster.\n",
    "\n",
    "The use of OpenEO's batch processing and geospatial data handling in Python allows for efficient, large-scale environmental monitoring, which can be applied to many other natural disasters or environmental changes.\n",
    "\n",
    "You are invited to play around with the code to better understand its details.\n",
    "\n",
    "As soon as you've finished please go back to the tutorial document and follow the last remaining steps of this module."
   ]
  }
 ],
 "metadata": {
  "kernelspec": {
   "display_name": "Python 3 (ipykernel)",
   "language": "python",
   "name": "python3"
  },
  "language_info": {
   "codemirror_mode": {
    "name": "ipython",
    "version": 3
   },
   "file_extension": ".py",
   "mimetype": "text/x-python",
   "name": "python",
   "nbconvert_exporter": "python",
   "pygments_lexer": "ipython3",
   "version": "3.11.6"
  },
  "vscode": {
   "interpreter": {
    "hash": "b8b300b7a3ff43d5a61f5cbfe8eff47befef07c4cfb5ff5f8c8ba01202962bfa"
   }
  }
 },
 "nbformat": 4,
 "nbformat_minor": 4
}
