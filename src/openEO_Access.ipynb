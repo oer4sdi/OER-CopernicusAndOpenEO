{
 "cells": [
  {
   "cell_type": "markdown",
   "metadata": {},
   "source": [
    "# 3.3 Exercise: Working with OpenEO on Copernicus Data\n",
    "Now that we have familiarized ourselves with the concepts of this OER, it’s time to get practical. In this exercise, we will analyze Sentinel-2 satellite data to assess the vegetation health before and after the Ahrweiler flood disaster, which occurred between July 14 and 15, 2021.\n",
    "\n",
    "In the first part of this exercise, we will focus on creating the pre-flood NDVI image using Sentinel-2 data. In a later section, you'll have the opportunity to create the post-flood NDVI image yourself and observe the changes in vegetation."
   ]
  },
  {
   "cell_type": "code",
   "execution_count": 19,
   "metadata": {},
   "outputs": [],
   "source": [
    "output_dir = input(\"Please enter your preferred output directory as an whole path: \")"
   ]
  },
  {
   "cell_type": "markdown",
   "metadata": {},
   "source": [
    "## 3.3.1 Installing the needed software\n",
    "To analyze the impact of the Ahrweiler flood, we need to install several Python libraries to access satellite data and process geospatial information. These include:\n",
    "- `openeo`: To access Earth Observation data.\n",
    "- `numpy`: For numerical data processing.\n",
    "- `matplotlib`: For visualization.\n",
    "- `rasterio`: To read and process geospatial TIFF files.\n",
    "- `os`: For interacting with the file system.\n",
    "\n",
    "If you're interested to learn more about the openeo python library, you can find the detailed documentation here: https://openeo.org/documentation/1.0/python/.\n",
    "\n",
    "You can install these libraries using the following command if any of imports should fail:\n",
    "```bash\n",
    "!pip install openeo numpy matplotlib rasterio"
   ]
  },
  {
   "cell_type": "code",
   "execution_count": 61,
   "metadata": {},
   "outputs": [],
   "source": [
    "import openeo\n",
    "import numpy as np\n",
    "import matplotlib.pyplot as plt\n",
    "import rasterio\n",
    "from skimage import exposure\n",
    "import os"
   ]
  },
  {
   "cell_type": "markdown",
   "metadata": {},
   "source": [
    "## 3.3.2 Sign in with your Account\n",
    "To begin the analysis, we need to access Copernicus Sentinel-2 data through the OpenEO platform. This will allow us to examine the vegetation in the affected region before and after the flood. The OpenEO API therefor allows you to work with Earth observation data from various platforms, including the Copernicus Data Space Ecosystem.\n",
    "\n",
    "To authenticate, use the following function provided by the `openeo` library:\n",
    "```python\n",
    "connection = openeo.connect(url=\"https://openeo.dataspace.copernicus.eu\")\n",
    "connection.authenticate_oidc()"
   ]
  },
  {
   "cell_type": "code",
   "execution_count": null,
   "metadata": {},
   "outputs": [],
   "source": [
    "connection = openeo.connect(url=\"openeo.dataspace.copernicus.eu\")\n",
    "\n",
    "connection.authenticate_oidc()"
   ]
  },
  {
   "cell_type": "markdown",
   "metadata": {},
   "source": [
    "## 3.3.3 Creating arguments for the Sentinel 2 data\n",
    "Next, we set up the necessary parameters to retrieve Sentinel-2 data for the area around Ahrweiler, focusing on the time period before the flood (July 13, 2021). By restricting the data to this specific date, we ensure that the imagery reflects the vegetation conditions just before the disaster occurred.\n",
    "\n",
    "While it’s possible to retrieve a larger time range, for this analysis we’ll only use a single Sentinel-2 image taken one day before the event."
   ]
  },
  {
   "cell_type": "code",
   "execution_count": 51,
   "metadata": {},
   "outputs": [],
   "source": [
    "date_before = [\"2021-06-12\", \"2021-06-14\"]\n",
    " \n",
    "flood_region_bbox = {\n",
    "    \"west\": 7.055496548917159,\n",
    "    \"south\": 50.52018836230043,\n",
    "    \"east\": 7.117575039388905,\n",
    "    \"north\": 50.546364682516895\n",
    "} "
   ]
  },
  {
   "cell_type": "markdown",
   "metadata": {},
   "source": [
    "## 3.3.4 Loading Sentinel 2 data with a Datacube\n",
    "\n",
    "To calculate NDVI (Normalized Difference Vegetation Index), we load the Sentinel-2 data using a Datacube, a key concept in OpenEO. If you want to know more about it, follow this link: https://openeo.org/documentation/1.0/datacubes.html. \n"
   ]
  },
  {
   "cell_type": "code",
   "execution_count": 52,
   "metadata": {},
   "outputs": [],
   "source": [
    "s2_data_before = connection.load_collection(\n",
    "    \"SENTINEL2_L2A\",\n",
    "    spatial_extent=flood_region_bbox,\n",
    "    temporal_extent=date_before,\n",
    "    bands=[\"B04\", \"B08\"]\n",
    ")"
   ]
  },
  {
   "cell_type": "markdown",
   "metadata": {},
   "source": [
    "## 3.3.5 Calculating the NDVI\n",
    "For this analysis, we will use the B04 (red) and B08 (near-infrared) bands of Sentinel-2, which are essential for NDVI calculations. This is a common index used to measure vegetation health. \n",
    "Luckily for us there already exists a function for that from the OpenEO API. OpenEO has many predefined functions like this, called processes, to perform calculations or mainpulate your data. These processes are also documented and can be found here: https://openeo.org/documentation/1.0/processes.html.\n",
    "\n",
    "The NDVI formula is:\n",
    "\\[\n",
    "NDVI = \\frac{NIR - Red}{NIR + Red}\n",
    "\\]\n",
    "This index helps us assess the health and density of vegetation. We will first generate the NDVI image for the area before the flood, which will serve as our baseline for comparison with the post-flood conditions."
   ]
  },
  {
   "cell_type": "code",
   "execution_count": 53,
   "metadata": {},
   "outputs": [],
   "source": [
    "ndvi_before = s2_data_before.ndvi(nir=\"B08\", red=\"B04\")"
   ]
  },
  {
   "cell_type": "markdown",
   "metadata": {},
   "source": [
    "## 3.3.6 Saving the NDVI Result as a GeoTIFF\n",
    "In this step, we calculate the mean NDVI over time for the pre-flood data. This reduces the temporal dimension and allows us to generate a single NDVI image representing the average vegetation health before the flood.\n",
    "\n",
    "We save the resulting NDVI image in GeoTIFF format. The GeoTIFF format allows us to store geospatial raster data with the correct geographic coordinates, ensuring that it can be easily loaded into GIS software for further analysis."
   ]
  },
  {
   "cell_type": "code",
   "execution_count": 54,
   "metadata": {},
   "outputs": [],
   "source": [
    "ndvi_mean_before = ndvi_before.reduce_dimension(dimension=\"t\", reducer=\"mean\")\n",
    "\n",
    "result_before = ndvi_mean_before.save_result(format=\"GTiff\")"
   ]
  },
  {
   "cell_type": "markdown",
   "metadata": {},
   "source": [
    "## 3.3.7 Creating and Starting a Batch Job\n",
    "Since the processing of satellite data can take some time, we use OpenEO's batch job feature. A batch job processes the data asynchronously on the OpenEO backend, and once completed, we can download the results.\n",
    "\n",
    "Here, we create and start a batch job to process the pre-flood NDVI data. Once the job is finished, the resulting NDVI image is downloaded and saved as a GeoTIFF file.\n",
    "\n",
    "As the batch job processes, it’s important to monitor the job’s progress. This ensures that we know when the processing is complete and can download the results.\n",
    "\n",
    "Once the job is finished (status = \"finished\"), the results can be downloaded directly, as shown in the previous step. If the job is still running or encounters an error, appropriate action can be taken."
   ]
  },
  {
   "cell_type": "code",
   "execution_count": null,
   "metadata": {},
   "outputs": [],
   "source": [
    "job_before = result_before.create_job()\n",
    "job_before.start_and_wait()\n",
    "if job_before.status() == \"finished\":\n",
    "    job_before.get_results().download_files(output_dir)\n",
    "    print(\"NDVI before flood downloaded successfully.\")\n",
    "else:\n",
    "    print(\"Error in downloading NDVI before flood!\")\n",
    "\n",
    "downloaded_files = os.listdir(output_dir)\n",
    "for filename in downloaded_files:\n",
    "    if filename == \"openEO.tif\":\n",
    "        file_path = os.path.join(output_dir, filename)\n",
    "        print(f\"Renaming {filename} to NDVI_Before_Flood.tif\")\n",
    "        os.rename(file_path, os.path.join(output_dir, \"NDVI_Before_Flood.tif\"))"
   ]
  },
  {
   "cell_type": "markdown",
   "metadata": {},
   "source": [
    "## 3.3.8 Show resulting .tif file\n",
    "After downloading and renaming the GeoTIFF file, we can visualize the pre-flood NDVI image. By using rasterio and matplotlib, we can load and display the NDVI data with a suitable color map to interpret vegetation health. \n",
    "This visualization helps us to understand the state of the vegetation before the flood and serves as a baseline for later comparison with post-flood data."
   ]
  },
  {
   "cell_type": "code",
   "execution_count": null,
   "metadata": {},
   "outputs": [],
   "source": [
    "def plot_ndvi(filename, output_dir):\n",
    "    file_path = os.path.join(output_dir, filename)\n",
    "    \n",
    "    if os.path.exists(file_path):\n",
    "        with rasterio.open(file_path) as src:\n",
    "            ndvi_data = src.read(1)\n",
    "            ndvi_data = np.clip(ndvi_data, -1, 1)\n",
    "            \n",
    "            plt.figure(figsize=(10, 10))\n",
    "            plt.title(f'NDVI Image - {filename}')\n",
    "            plt.imshow(ndvi_data, cmap='RdYlGn', vmin=-1, vmax=1)\n",
    "            plt.colorbar()\n",
    "            plt.show()\n",
    "    else:\n",
    "        print(f\"File {filename} not found!\")\n",
    "\n",
    "plot_ndvi(\"NDVI_Before_Flood.tif\", output_dir)"
   ]
  },
  {
   "cell_type": "markdown",
   "metadata": {},
   "source": [
    "## 3.3.9 Your Turn\n",
    "Now that you have seen the workflow try recreating it. Therefor fill the gaps in the following code snippet and run them after that. \n",
    "\n",
    "We want to get a second .tif file after the flood. Therefor we want to look for a date after the flood between the 2021.07.20 and 2021.07.22. For a better comparing of the two files, please use the same bbox as in the first job.\n",
    "\n",
    "Compare the results with the pre-flood NDVI to observe the impact of the flood on the vegetation. You can use the code provided in earlier steps as a template, adjusting the date and parameters as necessary.\n",
    "\n",
    "Once you've generated the post-flood NDVI image, compute the NDVI difference to assess the changes in vegetation and identify areas that were most affected by the flood."
   ]
  },
  {
   "cell_type": "code",
   "execution_count": null,
   "metadata": {},
   "outputs": [],
   "source": [
    "# creating arguments for the Sentinel 2 data\n",
    "date_after = []                                                     # Please insert a time period here.\n",
    "flood_region = {}                                                   # Please insert the region here.\n",
    "\n",
    "# load Sentienl 2 data with datacube\n",
    "s2_data_after = connection.load_collection(\n",
    "    \"SENTINEL2_L2A\",\n",
    "    spatial_extent=flood_region,\n",
    "    temporal_extent=date_after,\n",
    "    bands=[]                                                        # Please insert the needed bands.\n",
    ")\n",
    "\n",
    "# calculation of NDVI\n",
    "ndvi_after = s2_data_after.ndvi(nir=\"B08\", red=\"B04\")\n",
    "\n",
    "# use a reducer if necessary\n",
    "ndvi_mean_after = ndvi_after.reduce_dimension(dimension=\"t\", reducer=\"mean\")\n",
    "\n",
    "# Saving the NDVI result as a .tif file\n",
    "result_after = ndvi_mean_after.save_result(format=\"GTiff\")\n",
    "\n",
    "# creating and starting the job\n",
    "job_after = result_after.create_job()\n",
    "job_after.start_and_wait()\n",
    "if job_after.status() == \"finished\":\n",
    "    job_after.get_results().download_files(output_dir)\n",
    "    print(\"NDVI after flood downloaded successfully.\")\n",
    "else:\n",
    "    print(\"Error in downloading NDVI after flood!\")\n",
    "\n",
    "# Renaming file\n",
    "downloaded_files = os.listdir(output_dir)\n",
    "for filename in downloaded_files:\n",
    "    if filename == \"openEO.tif\":\n",
    "        file_path = os.path.join(output_dir, filename)\n",
    "        print(f\"Renaming {filename} to NDVI_After_Flood.tif\")\n",
    "        os.rename(file_path, os.path.join(output_dir, \"NDVI_After_Flood.tif\"))"
   ]
  },
  {
   "cell_type": "markdown",
   "metadata": {},
   "source": [
    "Now you can plot your created tif aswell and check with the control file if all went right."
   ]
  },
  {
   "cell_type": "code",
   "execution_count": null,
   "metadata": {},
   "outputs": [],
   "source": [
    "cwd = os.getcwd()\n",
    "output_dir_control = os.path.abspath(os.path.join(cwd, os.pardir, \"data\"))\n",
    "files = [\n",
    "    (\"NDVI_After_Flood.tif\", output_dir, \"After Flood\"),\n",
    "    (\"NDVI_After_Flood_Control.tif\", output_dir_control, \"After Flood Control .tif\")\n",
    "]\n",
    "\n",
    "\n",
    "def plot_ndvi_images(files_and_dirs):\n",
    "    fig, axes = plt.subplots(1, 2, figsize=(20, 10))\n",
    "\n",
    "    for ax, (filename, directory, title) in zip(axes, files_and_dirs):\n",
    "        file_path = os.path.join(directory, filename)\n",
    "        \n",
    "        if os.path.exists(file_path):\n",
    "            with rasterio.open(file_path) as src:\n",
    "                data = src.read(1)\n",
    "                data = np.clip(data, -1, 1)\n",
    "\n",
    "            ax.imshow(data, cmap='RdYlGn', vmin=-1, vmax=1)\n",
    "            ax.set_title(f'NDVI {title}')\n",
    "            ax.axis('off')\n",
    "        else:\n",
    "            print(f\"File {filename} not found in directory {directory}.\")\n",
    "\n",
    "    cbar = fig.colorbar(plt.cm.ScalarMappable(cmap='RdYlGn'), ax=axes, orientation='vertical', fraction=0.02, pad=0.04)\n",
    "    cbar.set_label('NDVI Value')\n",
    "\n",
    "    plt.show()\n",
    "\n",
    "plot_ndvi_images(files)"
   ]
  },
  {
   "cell_type": "markdown",
   "metadata": {},
   "source": [
    "Was everything alright? Then you can plot the .tif from before and your created .tif now together and look at the changes. If there were any errors in your file creation you can also use the control .tif file. You only have to change the use_control parameter to True in the first line."
   ]
  },
  {
   "cell_type": "code",
   "execution_count": null,
   "metadata": {},
   "outputs": [],
   "source": [
    "use_control = False  # Set True to use the control tif instead\n",
    "file_before = \"NDVI_Before_Flood.tif\"\n",
    "\n",
    "if use_control:\n",
    "    file_after = \"NDVI_After_Flood_Control.tif\"\n",
    "    file_after_dir = output_dir_control\n",
    "else:\n",
    "    file_after = \"NDVI_After_Flood.tif\"\n",
    "    file_after_dir = output_dir  \n",
    "\n",
    "files = [\n",
    "    (file_before, output_dir, \"Before Flood\"),\n",
    "    (file_after, file_after_dir, \"After Flood\")\n",
    "]\n",
    "\n",
    "plot_ndvi_images(files)"
   ]
  },
  {
   "cell_type": "markdown",
   "metadata": {},
   "source": [
    "After calculating the NDVI values for both pre-flood and post-flood data, we will visualize the NDVI difference to understand how the flood impacted vegetation in the Ahrweiler region.\n",
    "\n",
    "The color scale:\n",
    "- **Green**: Indicates areas where vegetation health has improved.\n",
    "- **Red**: Indicates areas where vegetation health has decreased, possibly due to flooding.\n",
    "\n",
    "Below is an example plot showing the NDVI difference:\n",
    "```python\n",
    "plt.imshow(ndvi_difference, cmap=\"RdYlGn\")\n",
    "plt.colorbar(label=\"NDVI Difference\")\n",
    "plt.title(\"NDVI Difference (After - Before)\")\n",
    "plt.show()"
   ]
  },
  {
   "cell_type": "code",
   "execution_count": null,
   "metadata": {},
   "outputs": [],
   "source": [
    "def calculate_ndvi_difference(before_path, after_path):\n",
    "    with rasterio.open(before_path) as before_src:\n",
    "        ndvi_before = before_src.read(1)\n",
    "    \n",
    "    with rasterio.open(after_path) as after_src:\n",
    "        ndvi_after = after_src.read(1)\n",
    "\n",
    "    ndvi_before = np.clip(ndvi_before, -1, 1)\n",
    "    ndvi_after = np.clip(ndvi_after, -1, 1)\n",
    "    \n",
    "    ndvi_diff = ndvi_after - ndvi_before\n",
    "    \n",
    "    plot_ndvi_difference(ndvi_diff)\n",
    "\n",
    "def plot_ndvi_difference(ndvi_diff):\n",
    "    plt.figure(figsize=(10, 10))\n",
    "    plt.title('NDVI Difference (After - Before)')\n",
    "    plt.imshow(ndvi_diff, cmap='RdYlGn', vmin=-1, vmax=1)\n",
    "    plt.colorbar(label='NDVI Difference')\n",
    "    plt.show()\n",
    "\n",
    "before_path = os.path.join(files[0][1], files[0][0])\n",
    "after_path = os.path.join(files[1][1], files[1][0])\n",
    "\n",
    "calculate_ndvi_difference(before_path, after_path)\n"
   ]
  },
  {
   "cell_type": "markdown",
   "metadata": {},
   "source": [
    "## Congratulations!!!\n",
    "\n",
    "You have mastered this exercise. You have seen how easily you can get to EO data and process it through the openEO API and Copernicus Data Space Ecosystem.\n",
    "\n",
    "In this module, you learned how to retrieve and analyze Sentinel-2 data using NDVI to assess the impact of the Ahrweiler flood. By comparing the pre- and post-flood vegetation health, you can now identify areas most affected by the disaster.\n",
    "\n",
    "The use of OpenEO's batch processing and geospatial data handling in Python allows for efficient, large-scale environmental monitoring, which can be applied to many other natural disasters or environmental changes.\n",
    "\n",
    "\n",
    "Now you can either play around with the code a bit more or close this Notebook and go back to the storyboard and follow the last remaining steps of this module."
   ]
  }
 ],
 "metadata": {
  "kernelspec": {
   "display_name": "Python 3 (ipykernel)",
   "language": "python",
   "name": "python3"
  },
  "language_info": {
   "codemirror_mode": {
    "name": "ipython",
    "version": 3
   },
   "file_extension": ".py",
   "mimetype": "text/x-python",
   "name": "python",
   "nbconvert_exporter": "python",
   "pygments_lexer": "ipython3",
   "version": "3.10.11"
  },
  "vscode": {
   "interpreter": {
    "hash": "b8b300b7a3ff43d5a61f5cbfe8eff47befef07c4cfb5ff5f8c8ba01202962bfa"
   }
  }
 },
 "nbformat": 4,
 "nbformat_minor": 4
}
