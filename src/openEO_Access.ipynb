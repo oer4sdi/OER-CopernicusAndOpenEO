{
 "cells": [
  {
   "cell_type": "markdown",
   "metadata": {},
   "source": [
    "# 3.3 Exercise: Working with OpenEO on Copernicus Data\n",
    "Now that we familiarized the concepts of this OER, it's time for us to get to the practical part and take a look how that works together. First of all please run the first code snippet and set your preferred output directory, where the resulting .tif files can be saved, in the input."
   ]
  },
  {
   "cell_type": "code",
   "execution_count": 2,
   "metadata": {},
   "outputs": [],
   "source": [
    "output_dir = input(\"Please enter your preferred output directory as an whole path: \")"
   ]
  },
  {
   "cell_type": "markdown",
   "metadata": {},
   "source": [
    "## 3.3.1 Installing the needed software\n",
    "First of all we need to import the needed python libraries. We need to import the openeo library for getting our data first. After that we also need the numpy, matplotlib, rasterio, skimage and os libraries for plotting our result in the end. \n",
    "If you're interested to learn more about the openeo python library, you can find the detailed documentation here: https://openeo.org/documentation/1.0/python/."
   ]
  },
  {
   "cell_type": "code",
   "execution_count": 3,
   "metadata": {},
   "outputs": [],
   "source": [
    "import openeo\n",
    "import numpy as np\n",
    "import matplotlib.pyplot as plt\n",
    "import rasterio\n",
    "from skimage import exposure\n",
    "import os\n",
    "\n"
   ]
  },
  {
   "cell_type": "markdown",
   "metadata": {},
   "source": [
    "## 3.3.2 Sign in with your Account\n",
    "We want to use the Sentinel 2 data of the Copernicus program. OpenEO gives us the opportunity to work with the Copernicus Data Space Ecosystem which can provide us with the datasets we need. To get access to the data we need to connect with the Copernicus Data Space Ecosystem and sign in with our account. This is possbile with the connect() function of the openeo library. Here you also can connect to other services like Google Earth Engine. On this site you get the information which url you need for your choosen service: https://hub.openeo.org/. But for this tutorial we will use the Copernicus Data Space Ecosystem.    \n",
    "We need to sing in with our account to get access to the data. This is possible with the authenticate_*() functions. We will use the authenticate_oidc() function. It's the OpenID Connect authentification. With this function it's possbile to sign in from the browser into your account. Therefore you need to click on the link in the output."
   ]
  },
  {
   "cell_type": "code",
   "execution_count": null,
   "metadata": {},
   "outputs": [],
   "source": [
    "connection = openeo.connect(url=\"openeo.dataspace.copernicus.eu\")\n",
    "\n",
    "connection.authenticate_oidc()"
   ]
  },
  {
   "cell_type": "markdown",
   "metadata": {},
   "source": [
    "## 3.3.3 Creating arguments for the Sentinel 2 data\n",
    "Before we can access our data, we have to create some arguments. We only need a small area around Lorup and also set a time period of one day to only get the data of one Sentinel 2 shot. There is also the option of getting all the data in a specific time period. But in our use case of the calculation of the NDVI that isn't necessary."
   ]
  },
  {
   "cell_type": "code",
   "execution_count": 5,
   "metadata": {},
   "outputs": [],
   "source": [
    "# Define the date for a specific day before the flood\n",
    "date_before = [\"2021-06-12\", \"2021-06-14\"]\n",
    "\n",
    "# Define the date for a specific day after the flood\n",
    "date_after = [\"2021-07-20\", \"2021-07-22\"]\n",
    "\n",
    "# Define the bounding box for the flood region Ahrweiler \n",
    "flood_region_bbox = {\n",
    "    \"west\": 7.055496548917159,\n",
    "    \"south\": 50.52018836230043,\n",
    "    \"east\": 7.117575039388905,\n",
    "    \"north\": 50.546364682516895\n",
    "} "
   ]
  },
  {
   "cell_type": "markdown",
   "metadata": {},
   "source": [
    "## 3.3.4 load Sentinel 2 data with datacube\n",
    "Now we can load our wanted data. This is possbile through Datacubes. Datacubes are a central concept in openEO to represent EO data (if you want to know more about it, follow this link: https://openeo.org/documentation/1.0/datacubes.html. To get a datacube object of the Sentinel 1 data we need another function of the OpenEO library load_connection().\n",
    "For the calculation of the NDVI we only need the B04 (red) and B08 (near-infrared) bands of the Sentinel 2 data, therefore we specify that as an additional parameter in the function."
   ]
  },
  {
   "cell_type": "code",
   "execution_count": 6,
   "metadata": {},
   "outputs": [],
   "source": [
    "# Load Sentinel-2 data including the SCL band for cloud masking\n",
    "s2_data_before = connection.load_collection(\n",
    "    \"SENTINEL2_L2A\",\n",
    "    spatial_extent=flood_region_bbox,\n",
    "    temporal_extent=date_before,\n",
    "    bands=[\"B04\", \"B08\"]\n",
    ")\n",
    "\n",
    "s2_data_after = connection.load_collection(\n",
    "    \"SENTINEL2_L2A\",\n",
    "    spatial_extent=flood_region_bbox,\n",
    "    temporal_extent=date_after,\n",
    "    bands=[\"B04\", \"B08\"]\n",
    ")"
   ]
  },
  {
   "cell_type": "markdown",
   "metadata": {},
   "source": [
    "## 3.3.5 Calculating the NDVI\n",
    "The NDVI (Normalized Difference Vegetation Index) is calculated using the near-infrared (B08) and red (B04) bands. This is a common index used to measure vegetation health. \n",
    "Luckily for us there already exists a function for that from the OpenEO API. OpenEO has many predefined functions like this, called processes, to perform calculations or mainpulate your data. These processes are also documented and can be found here: https://openeo.org/documentation/1.0/processes.html."
   ]
  },
  {
   "cell_type": "code",
   "execution_count": 7,
   "metadata": {},
   "outputs": [],
   "source": [
    "# NDVI calculation for both time periods\n",
    "ndvi_before = s2_data_before.ndvi(nir=\"B08\", red=\"B04\")\n",
    "ndvi_after = s2_data_after.ndvi(nir=\"B08\", red=\"B04\")"
   ]
  },
  {
   "cell_type": "markdown",
   "metadata": {},
   "source": [
    "## 3.3.6 Saving the NDVI Result as a GeoTIFF\n",
    "We save the resulting NDVI image as a GeoTIFF file with a filename that includes the date range."
   ]
  },
  {
   "cell_type": "code",
   "execution_count": 8,
   "metadata": {},
   "outputs": [],
   "source": [
    "# Reduce dimension to average the results over the time period\n",
    "ndvi_mean_before = ndvi_before.reduce_dimension(dimension=\"t\", reducer=\"mean\")\n",
    "ndvi_mean_after = ndvi_after.reduce_dimension(dimension=\"t\", reducer=\"mean\")\n",
    "\n",
    "# Save the pre- and post-flood NDVI results\n",
    "result_before = ndvi_mean_before.save_result(format=\"GTiff\")\n",
    "result_after = ndvi_mean_after.save_result(format=\"GTiff\")"
   ]
  },
  {
   "cell_type": "markdown",
   "metadata": {},
   "source": [
    "## 3.3.7 Creating and Starting a Batch Job\n",
    "We create a batch job to process the data on the OpenEO backend. The job is then started and we wait for it to complete."
   ]
  },
  {
   "cell_type": "code",
   "execution_count": null,
   "metadata": {},
   "outputs": [],
   "source": [
    "# Create jobs and download results for \"Before\" NDVI\n",
    "job_before = result_before.create_job()\n",
    "job_before.start_and_wait()\n",
    "if job_before.status() == \"finished\":\n",
    "    job_before.get_results().download_files(output_dir)\n",
    "    print(\"NDVI before flood downloaded successfully.\")\n",
    "else:\n",
    "    print(\"Error in downloading NDVI before flood!\")\n",
    "\n",
    "# Rename downloaded files based on job completion order\n",
    "downloaded_files = os.listdir(output_dir)\n",
    "for filename in downloaded_files:\n",
    "    if filename.endswith(\".tif\"):\n",
    "        file_path = os.path.join(output_dir, filename)\n",
    "        if \"Before\" not in filename and \"After\" not in filename:\n",
    "            if not os.path.exists(os.path.join(output_dir, \"NDVI_Before_Flood.tif\")):\n",
    "                print(f\"Renaming {filename} to NDVI_Before_Flood.tif\")\n",
    "                os.rename(file_path, os.path.join(output_dir, \"NDVI_Before_Flood.tif\"))\n",
    "            elif not os.path.exists(os.path.join(output_dir, \"NDVI_After_Flood.tif\")):\n",
    "                print(f\"Renaming {filename} to NDVI_After_Flood.tif\")\n",
    "                os.rename(file_path, os.path.join(output_dir, \"NDVI_After_Flood.tif\"))\n",
    "\n",
    "\n",
    "# Create jobs and download results for \"After\" NDVI\n",
    "job_after = result_after.create_job()\n",
    "job_after.start_and_wait()\n",
    "if job_after.status() == \"finished\":\n",
    "    job_after.get_results().download_files(output_dir)\n",
    "    print(\"NDVI after flood downloaded successfully.\")\n",
    "else:\n",
    "    print(\"Error in downloading NDVI after flood!\")\n",
    "\n",
    "# Rename downloaded files based on job completion order\n",
    "downloaded_files = os.listdir(output_dir)\n",
    "for filename in downloaded_files:\n",
    "    if filename.endswith(\".tif\"):\n",
    "        file_path = os.path.join(output_dir, filename)\n",
    "        if \"Before\" not in filename and \"After\" not in filename:\n",
    "            if not os.path.exists(os.path.join(output_dir, \"NDVI_Before_Flood.tif\")):\n",
    "                print(f\"Renaming {filename} to NDVI_Before_Flood.tif\")\n",
    "                os.rename(file_path, os.path.join(output_dir, \"NDVI_Before_Flood.tif\"))\n",
    "            elif not os.path.exists(os.path.join(output_dir, \"NDVI_After_Flood.tif\")):\n",
    "                print(f\"Renaming {filename} to NDVI_After_Flood.tif\")\n",
    "                os.rename(file_path, os.path.join(output_dir, \"NDVI_After_Flood.tif\"))\n"
   ]
  },
  {
   "cell_type": "markdown",
   "metadata": {},
   "source": [
    "## 3.3.9 Show resulting .tif file\n",
    "As our last step we finally visualize the NDVI data using a color map that highlights vegetation. "
   ]
  },
  {
   "cell_type": "code",
   "execution_count": null,
   "metadata": {},
   "outputs": [],
   "source": [
    "# Load and plot the pre- and post-flood NDVI images\n",
    "for filename in [\"NDVI_Before_Flood.tif\", \"NDVI_After_Flood.tif\"]:\n",
    "    file_path = os.path.join(output_dir, filename)\n",
    "    if os.path.exists(file_path):\n",
    "        with rasterio.open(file_path) as src:\n",
    "            data = src.read(1)\n",
    "            data = np.clip(data, -1, 1)\n",
    "\n",
    "        # Plot the NDVI\n",
    "        plt.figure(figsize=(10, 10))\n",
    "        plt.title(f'NDVI Image - {filename}')\n",
    "        plt.imshow(data, cmap='RdYlGn', vmin=-1, vmax=1)\n",
    "        plt.colorbar()\n",
    "        plt.show()\n",
    "    else:\n",
    "        print(f\"File {filename} not found!\")\n",
    "\n",
    "# Function to enhance contrast using contrast stretching\n",
    "def enhance_contrast(ndvi_data):\n",
    "    # Stretching contrast\n",
    "    p2, p98 = np.percentile(ndvi_data, (2, 98))  # Clip the 2nd and 98th percentile values\n",
    "    ndvi_enhanced = exposure.rescale_intensity(ndvi_data, in_range=(p2, p98))\n",
    "    return ndvi_enhanced\n",
    "\n",
    "# Load and plot enhanced NDVI images\n",
    "def plot_enhanced_ndvi(filename, output_dir):\n",
    "    file_path = os.path.join(output_dir, filename)\n",
    "    with rasterio.open(file_path) as src:\n",
    "        ndvi_data = src.read(1)\n",
    "        ndvi_data = np.clip(ndvi_data, -1, 1)  # Clip NDVI values to [-1, 1]\n",
    "        \n",
    "        # Enhance contrast\n",
    "        ndvi_enhanced = enhance_contrast(ndvi_data)\n",
    "        \n",
    "        # Plot the enhanced NDVI\n",
    "        plt.figure(figsize=(10, 10))\n",
    "        plt.title(f'Enhanced NDVI Image - {filename}')\n",
    "        plt.imshow(ndvi_enhanced, cmap='RdYlGn', vmin=-1, vmax=1)\n",
    "        plt.colorbar()\n",
    "        plt.show()"
   ]
  },
  {
   "cell_type": "code",
   "execution_count": null,
   "metadata": {},
   "outputs": [],
   "source": [
    "from skimage import exposure\n",
    "import matplotlib.pyplot as plt\n",
    "import rasterio\n",
    "\n",
    "# Function to enhance contrast using contrast stretching\n",
    "def enhance_contrast(ndvi_data):\n",
    "    # Stretching contrast\n",
    "    p2, p98 = np.percentile(ndvi_data, (2, 98))  # Clip the 2nd and 98th percentile values\n",
    "    ndvi_enhanced = exposure.rescale_intensity(ndvi_data, in_range=(p2, p98))\n",
    "    return ndvi_enhanced\n",
    "\n",
    "# Load and plot enhanced NDVI images\n",
    "def plot_enhanced_ndvi(filename, output_dir):\n",
    "    file_path = os.path.join(output_dir, filename)\n",
    "    with rasterio.open(file_path) as src:\n",
    "        ndvi_data = src.read(1)\n",
    "        ndvi_data = np.clip(ndvi_data, -1, 1)  # Clip NDVI values to [-1, 1]\n",
    "        \n",
    "        # Enhance contrast\n",
    "        ndvi_enhanced = enhance_contrast(ndvi_data)\n",
    "        \n",
    "        # Plot the enhanced NDVI\n",
    "        plt.figure(figsize=(10, 10))\n",
    "        plt.title(f'Enhanced NDVI Image - {filename}')\n",
    "        plt.imshow(ndvi_enhanced, cmap='RdYlGn', vmin=-1, vmax=1)\n",
    "        plt.colorbar()\n",
    "        plt.show()\n",
    "\n",
    "# Example of plotting the enhanced images\n",
    "output_dir = \"C:/Users/Tobias/Desktop/OER-CopernicusAndopenEO/\"\n",
    "plot_enhanced_ndvi(\"NDVI_Before_Flood.tif\", output_dir)\n",
    "plot_enhanced_ndvi(\"NDVI_After_Flood.tif\", output_dir)\n",
    "\n",
    "# Paths to the before and after NDVI images\n",
    "before_path = os.path.join(output_dir, \"NDVI_Before_Flood.tif\")\n",
    "after_path = os.path.join(output_dir, \"NDVI_After_Flood.tif\")"
   ]
  },
  {
   "cell_type": "code",
   "execution_count": null,
   "metadata": {},
   "outputs": [],
   "source": [
    "import numpy as np\n",
    "import matplotlib.pyplot as plt\n",
    "import rasterio\n",
    "from skimage import exposure\n",
    "\n",
    "# Function to calculate NDVI difference\n",
    "def calculate_ndvi_difference(before_path, after_path):\n",
    "    with rasterio.open(before_path) as before_src:\n",
    "        ndvi_before = before_src.read(1)\n",
    "    \n",
    "    with rasterio.open(after_path) as after_src:\n",
    "        ndvi_after = after_src.read(1)\n",
    "    \n",
    "    # Clip NDVI values between -1 and 1\n",
    "    ndvi_before = np.clip(ndvi_before, -1, 1)\n",
    "    ndvi_after = np.clip(ndvi_after, -1, 1)\n",
    "    \n",
    "    # Calculate the difference\n",
    "    ndvi_diff = ndvi_after - ndvi_before\n",
    "    \n",
    "    return ndvi_diff\n",
    "\n",
    "# Function to enhance contrast using percentiles (2nd and 98th)\n",
    "def enhance_contrast(ndvi_diff):\n",
    "    p2, p98 = np.percentile(ndvi_diff, (2, 98))  # Compute the 2nd and 98th percentiles\n",
    "    ndvi_diff_enhanced = exposure.rescale_intensity(ndvi_diff, in_range=(p2, p98))\n",
    "    return ndvi_diff_enhanced\n",
    "\n",
    "# Function to plot the enhanced NDVI difference\n",
    "def plot_enhanced_ndvi_difference(ndvi_diff_enhanced):\n",
    "    plt.figure(figsize=(10, 10))\n",
    "    plt.title('Enhanced NDVI Difference (After - Before)')\n",
    "    plt.imshow(ndvi_diff_enhanced, cmap='RdYlGn', vmin=-1, vmax=1)\n",
    "    plt.colorbar(label='NDVI Difference')\n",
    "    plt.show()\n",
    "\n",
    "# Paths to the before and after NDVI images\n",
    "before_path = os.path.join(output_dir, \"NDVI_Before_Flood.tif\")\n",
    "after_path = os.path.join(output_dir, \"NDVI_After_Flood.tif\")\n",
    "\n",
    "# Calculate the NDVI difference\n",
    "ndvi_difference = calculate_ndvi_difference(before_path, after_path)\n",
    "\n",
    "# Enhance the contrast using the 2nd and 98th percentiles\n",
    "ndvi_difference_enhanced = enhance_contrast(ndvi_difference)\n",
    "\n",
    "# Plot the enhanced NDVI difference\n",
    "plot_enhanced_ndvi_difference(ndvi_difference_enhanced)\n"
   ]
  }
 ],
 "metadata": {
  "kernelspec": {
   "display_name": "Python 3 (ipykernel)",
   "language": "python",
   "name": "python3"
  },
  "language_info": {
   "codemirror_mode": {
    "name": "ipython",
    "version": 3
   },
   "file_extension": ".py",
   "mimetype": "text/x-python",
   "name": "python",
   "nbconvert_exporter": "python",
   "pygments_lexer": "ipython3",
   "version": "3.10.11"
  },
  "vscode": {
   "interpreter": {
    "hash": "b8b300b7a3ff43d5a61f5cbfe8eff47befef07c4cfb5ff5f8c8ba01202962bfa"
   }
  }
 },
 "nbformat": 4,
 "nbformat_minor": 4
}
